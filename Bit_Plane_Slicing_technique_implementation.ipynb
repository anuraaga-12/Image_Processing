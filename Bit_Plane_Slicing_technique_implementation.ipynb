{
  "nbformat": 4,
  "nbformat_minor": 0,
  "metadata": {
    "colab": {
      "provenance": []
    },
    "kernelspec": {
      "name": "python3",
      "display_name": "Python 3"
    },
    "language_info": {
      "name": "python"
    }
  },
  "cells": [
    {
      "cell_type": "code",
      "execution_count": null,
      "metadata": {
        "id": "tfAUVGw5nUaa"
      },
      "outputs": [],
      "source": [
        "import cv2\n",
        "import numpy as np\n",
        "from google.colab.patches import cv2_imshow\n",
        "\n",
        "# Load the image\n",
        "img = cv2.imread('/content/car_image.jpg', cv2.IMREAD_GRAYSCALE)\n",
        "\n",
        "# Video Writer Setup\n",
        "fourcc = cv2.VideoWriter_fourcc(*'mp4v') # Use appropriate codec for your system\n",
        "out = cv2.VideoWriter('bitplane_video.mp4', fourcc, 5.0, (img.shape[1], img.shape[0]))\n",
        "\n",
        "# Bit-plane slicing and reconstruction\n",
        "reconstructed_image = np.zeros_like(img) # Start with a black image\n",
        "for i in range(8):\n",
        "    bit_plane = 2**i * (img // 2**i % 2) # Extract the bit plane\n",
        "    reconstructed_image = cv2.bitwise_or(reconstructed_image, bit_plane) # Add to the reconstruction\n",
        "    out.write(reconstructed_image) # Write the current frame\n",
        "\n",
        "    # Display the frame (optional for visualization)\n",
        "    cv2_imshow( reconstructed_image)\n",
        "    cv2.waitKey(500) # Adjust delay (ms) for desired frame rate\n",
        "\n",
        "# Release resources\n",
        "out.release()\n",
        "cv2.destroyAllWindows()"
      ]
    }
  ]
}